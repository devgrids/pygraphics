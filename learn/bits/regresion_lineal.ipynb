{
 "cells": [
  {
   "cell_type": "markdown",
   "metadata": {
    "id": "Vswpx6tLUeO4"
   },
   "source": [
    "# Regresión lineal: implementación desde cero en Python"
   ]
  },
  {
   "cell_type": "markdown",
   "metadata": {
    "id": "KekemDcyUdF3"
   },
   "source": [
    "## 1. Configuración"
   ]
  },
  {
   "cell_type": "code",
   "execution_count": 1,
   "metadata": {
    "id": "8pgsYo3FU0oU"
   },
   "outputs": [],
   "source": [
    "ruta = r'C:\\Users\\yordy\\OneDrive\\Escritorio\\Internet Explorer\\deep\\learn\\assets\\datasets\\prices.csv'"
   ]
  },
  {
   "cell_type": "markdown",
   "metadata": {
    "id": "Relh2SncVM6Q"
   },
   "source": [
    "## 2. Lectura y visualización del set de datos"
   ]
  },
  {
   "cell_type": "code",
   "execution_count": 2,
   "metadata": {
    "id": "bVrZoXjmVQMp"
   },
   "outputs": [
    {
     "name": "stderr",
     "output_type": "stream",
     "text": [
      "C:\\Users\\yordy\\AppData\\Local\\Temp\\ipykernel_2364\\2369337058.py:1: DeprecationWarning: \n",
      "Pyarrow will become a required dependency of pandas in the next major release of pandas (pandas 3.0),\n",
      "(to allow more performant data types, such as the Arrow string type, and better interoperability with other libraries)\n",
      "but was not found to be installed on your system.\n",
      "If this would cause problems for you,\n",
      "please provide us feedback at https://github.com/pandas-dev/pandas/issues/54466\n",
      "        \n",
      "  import pandas as pd\n"
     ]
    }
   ],
   "source": [
    "import pandas as pd\n",
    "import matplotlib.pyplot as plt\n",
    "import numpy as np\n",
    "np.random.seed(100)"
   ]
  },
  {
   "cell_type": "code",
   "execution_count": 3,
   "metadata": {
    "id": "TzRpfLirVTP5"
   },
   "outputs": [],
   "source": [
    "data = pd.read_csv(ruta)"
   ]
  },
  {
   "cell_type": "code",
   "execution_count": 4,
   "metadata": {
    "colab": {
     "base_uri": "https://localhost:8080/",
     "height": 206
    },
    "id": "YjpD9XGjVYYZ",
    "outputId": "570668bc-5075-4270-da37-adedf8858e1e"
   },
   "outputs": [
    {
     "data": {
      "text/html": [
       "<div>\n",
       "<style scoped>\n",
       "    .dataframe tbody tr th:only-of-type {\n",
       "        vertical-align: middle;\n",
       "    }\n",
       "\n",
       "    .dataframe tbody tr th {\n",
       "        vertical-align: top;\n",
       "    }\n",
       "\n",
       "    .dataframe thead th {\n",
       "        text-align: right;\n",
       "    }\n",
       "</style>\n",
       "<table border=\"1\" class=\"dataframe\">\n",
       "  <thead>\n",
       "    <tr style=\"text-align: right;\">\n",
       "      <th></th>\n",
       "      <th>Area</th>\n",
       "      <th>Precio</th>\n",
       "    </tr>\n",
       "  </thead>\n",
       "  <tbody>\n",
       "    <tr>\n",
       "      <th>0</th>\n",
       "      <td>152.272727</td>\n",
       "      <td>65928.86015</td>\n",
       "    </tr>\n",
       "    <tr>\n",
       "      <th>1</th>\n",
       "      <td>102.272727</td>\n",
       "      <td>44477.41849</td>\n",
       "    </tr>\n",
       "    <tr>\n",
       "      <th>2</th>\n",
       "      <td>222.727273</td>\n",
       "      <td>95848.62198</td>\n",
       "    </tr>\n",
       "    <tr>\n",
       "      <th>3</th>\n",
       "      <td>79.545455</td>\n",
       "      <td>44964.89827</td>\n",
       "    </tr>\n",
       "    <tr>\n",
       "      <th>4</th>\n",
       "      <td>86.363636</td>\n",
       "      <td>34367.39122</td>\n",
       "    </tr>\n",
       "  </tbody>\n",
       "</table>\n",
       "</div>"
      ],
      "text/plain": [
       "         Area       Precio\n",
       "0  152.272727  65928.86015\n",
       "1  102.272727  44477.41849\n",
       "2  222.727273  95848.62198\n",
       "3   79.545455  44964.89827\n",
       "4   86.363636  34367.39122"
      ]
     },
     "execution_count": 4,
     "metadata": {},
     "output_type": "execute_result"
    }
   ],
   "source": [
    "data.head()"
   ]
  },
  {
   "cell_type": "code",
   "execution_count": 5,
   "metadata": {
    "colab": {
     "base_uri": "https://localhost:8080/"
    },
    "id": "J4_PtVuBVZXR",
    "outputId": "95ebb5f8-e0c7-43d9-992b-d98dd4624b82"
   },
   "outputs": [
    {
     "data": {
      "text/plain": [
       "(100, 2)"
      ]
     },
     "execution_count": 5,
     "metadata": {},
     "output_type": "execute_result"
    }
   ],
   "source": [
    "data.shape"
   ]
  },
  {
   "cell_type": "code",
   "execution_count": 6,
   "metadata": {
    "id": "jFrErFrRVajp"
   },
   "outputs": [],
   "source": [
    "x1 = data['Area'].values\n",
    "y = data['Precio'].values"
   ]
  },
  {
   "cell_type": "code",
   "execution_count": 7,
   "metadata": {
    "colab": {
     "base_uri": "https://localhost:8080/",
     "height": 461
    },
    "id": "v5S_D28PVfhA",
    "outputId": "213be7d1-22a2-45d0-d993-1efd3f14ef3e"
   },
   "outputs": [
    {
     "data": {
      "image/png": "[encoded data removed]",
      "text/plain": [
       "<Figure size 640x480 with 1 Axes>"
      ]
     },
     "metadata": {},
     "output_type": "display_data"
    }
   ],
   "source": [
    "plt.scatter(x1,y)\n",
    "plt.xlabel('$x_1$ (área en $m^2)$')\n",
    "plt.ylabel('y (precio (en U$)');"
   ]
  },
  {
   "cell_type": "markdown",
   "metadata": {
    "id": "MWRfTBchVqLI"
   },
   "source": [
    "## 3. Funciones para construir el modelo lineal"
   ]
  },
  {
   "cell_type": "markdown",
   "metadata": {
    "id": "0-Qtn32GVyIB"
   },
   "source": [
    "###3.1 Pérdida\n",
    "\n",
    "$L(\\omega ,b)=\\frac{1}{2m}\\sum_{i=1}^m [w x_1^{(i)}+b-y^{(i)}]^2$"
   ]
  },
  {
   "cell_type": "code",
   "execution_count": 8,
   "metadata": {
    "id": "of3k_K85V0m8"
   },
   "outputs": [],
   "source": [
    "def calcular_perdida(x,y,w,b,m):\n",
    "\terrores_individuales = np.square([w*x+b-y])\n",
    "\tperdida = np.sum(errores_individuales)/(2*m)\n",
    "\n",
    "\treturn perdida"
   ]
  },
  {
   "cell_type": "markdown",
   "metadata": {
    "id": "JzpZUVhFdRx9"
   },
   "source": [
    "### 3.2 Gradiente descendente\n",
    "\n",
    "Los parámetros (coeficientes) se actualizan así:\n",
    "\n",
    "$\\omega \\leftarrow \\omega - \\alpha \\frac{\\partial L(\\omega ,b)}{\\partial \\omega}$\n",
    "\n",
    "$b \\leftarrow b - \\alpha \\frac{\\partial L(\\omega ,b)}{\\partial b}$\n",
    "\n",
    "donde las derivadas parciales son:\n",
    "\n",
    "$\\frac{\\partial L(\\omega ,b)}{\\partial \\omega} = \\frac{1}{m} \\sum_{i=1}^m x_1^{(i)} [w \\cdot x_1^{(i)} + b - y^{(i)}]$\n",
    "\n",
    "$\\frac{\\partial L(\\omega ,b)}{\\partial b} = \\frac{1}{m} \\sum_{i=1}^m [w \\cdot x_1^{(i)} + b - y^{(i)}]$"
   ]
  },
  {
   "cell_type": "code",
   "execution_count": 9,
   "metadata": {
    "id": "CAgQlPIYd54K"
   },
   "outputs": [],
   "source": [
    "def gradiente_descendente(w,b,alpha,x,y,m):\n",
    "  # dL_w y dL_b\n",
    "  dL_w = np.sum(x*(w*x+b-y))/m\n",
    "  dL_b = np.sum(w*x+b-y)/m\n",
    "\n",
    "  # Actualización de pesos\n",
    "  w = w - alpha*dL_w\n",
    "  b = b - alpha*dL_b\n",
    "\n",
    "  return w,b"
   ]
  },
  {
   "cell_type": "markdown",
   "metadata": {
    "id": "j1eKT8FSfD_r"
   },
   "source": [
    "### 3.3 Predicción con el modelo ya entrenado\n",
    "\n",
    "$\\hat{y} = w \\cdot x_1 + b$"
   ]
  },
  {
   "cell_type": "code",
   "execution_count": 10,
   "metadata": {
    "id": "_o7xvdcRfUUQ"
   },
   "outputs": [],
   "source": [
    "def predecir(x,w,b):\n",
    "\ty_pred = w*x + b\n",
    "\n",
    "\treturn y_pred"
   ]
  },
  {
   "cell_type": "markdown",
   "metadata": {
    "id": "S5DljwkZfc8Z"
   },
   "source": [
    "## 4. Entrenamiento"
   ]
  },
  {
   "cell_type": "code",
   "execution_count": 11,
   "metadata": {
    "id": "d51A1GnOfe82"
   },
   "outputs": [],
   "source": [
    "# Modificar estos hiper-parámetros para observar diferentes comportamientos\n",
    "\n",
    "nits = 20\t\t\t\t# Número de iteraciones\n",
    "alpha = 0.00001 # Tasa de aprendizaje (0.00001)\n"
   ]
  },
  {
   "cell_type": "code",
   "execution_count": 12,
   "metadata": {
    "id": "KBzuyKgVfpTX"
   },
   "outputs": [],
   "source": [
    "def entrenar(x,y,nits,alpha):\n",
    "\tm = x.shape[0] \t# Número de datos de entrenamiento\n",
    "\n",
    "\t# Inicializar pesos (acá np.random.seed(100) garantiza que siempre inicializo en los mismos valores)\n",
    "\tw = np.random.rand()\n",
    "\tb = np.random.rand()\n",
    "\n",
    "\t# Pérdida inicial\n",
    "\tperdida = []\n",
    "\tperdida_i = calcular_perdida(x,y,w,b,m)\n",
    "\tperdida.append(perdida_i)\n",
    "\n",
    "\t# Imprimir valores iniciales\n",
    "\tprint('Inicialización. '  + 'Loss: '\n",
    "\t\t\t+ str(perdida_i) + ', w: ' + str(w) + ', b: ' + str(b))\n",
    "\n",
    "\t# Entrenamiento\n",
    "\tfor it in range(nits):\n",
    "\t\t# Aplicar gradiente descendente\n",
    "\t\tw, b = gradiente_descendente(w,b,alpha,x,y,m)\n",
    "\n",
    "\t\t# Actualizar pérdida\n",
    "\t\tperdida_it = calcular_perdida(x,y,w,b,m)\n",
    "\t\tperdida.append(perdida_it)\n",
    "\n",
    "\t\t# Imprimir en pantalla\n",
    "\t\tprint('Iteración: ' + str(it) + '. ' + 'Loss: '\n",
    "\t\t\t+ str(perdida_it) + ', w: ' + str(w) + ', b: ' + str(b))\n",
    "\n",
    "\treturn w, b, perdida"
   ]
  },
  {
   "cell_type": "code",
   "execution_count": 52,
   "metadata": {
    "colab": {
     "base_uri": "https://localhost:8080/"
    },
    "id": "Lx2-6zyZfuHl",
    "outputId": "aa817e17-fd5f-4727-bdbe-a032db316098"
   },
   "outputs": [
    {
     "name": "stdout",
     "output_type": "stream",
     "text": [
      "Inicialización. Loss: 2347167102.6536407, w: 0.09205560337723862, b: 0.4634980189371477\n",
      "Iteración: 0. Loss: 1401820369.4603195, w: 103.50510342748422, b: 1.0775264718896147\n",
      "Iteración: 1. Loss: 844392499.6875205, w: 182.91490353281222, b: 1.5493558437994048\n",
      "Iteración: 2. Loss: 515702698.2421656, w: 243.89285979146823, b: 1.91199202227065\n",
      "Iteración: 3. Loss: 321889307.3967559, w: 290.7171951914647, b: 2.190779884524458\n",
      "Iteración: 4. Loss: 207606386.79333144, w: 326.67311259285526, b: 2.405181497724649\n",
      "Iteración: 5. Loss: 140218958.65427977, w: 354.2832850451615, b: 2.5701415804817955\n",
      "Iteración: 6. Loss: 100483664.43050137, w: 375.4848469007746, b: 2.6971360265161937\n",
      "Iteración: 7. Loss: 77053572.90075864, w: 391.7653034469632, b: 2.7949770550546633\n",
      "Iteración: 8. Loss: 63237916.036643684, w: 404.26689449632534, b: 2.8704314774318385\n",
      "Iteración: 9. Loss: 55091452.96755242, w: 413.8667341005896, b: 2.9286954575719166\n",
      "Iteración: 10. Loss: 50287855.017763145, w: 421.2383490019117, b: 2.9737590756163303\n",
      "Iteración: 11. Loss: 47455392.22579048, w: 426.89893336848996, b: 3.0086862725352455\n",
      "Iteración: 12. Loss: 45785217.97126027, w: 431.24563521372374, b: 3.0358298166781466\n",
      "Iteración: 13. Loss: 44800392.27789466, w: 434.58342035943656, b: 3.0569963743484094\n",
      "Iteración: 14. Loss: 44219685.38563499, w: 437.14646888293646, b: 3.073573265777741\n",
      "Iteración: 15. Loss: 43877268.926392175, w: 439.1146052257954, b: 3.0866257997183455\n",
      "Iteración: 16. Loss: 43675361.47170948, w: 440.62591470320496, b: 3.0969720156621796\n",
      "Iteración: 17. Loss: 43556305.77113437, w: 441.7864315900662, b: 3.1052400776124163\n",
      "Iteración: 18. Loss: 43486103.97270032, w: 442.67757850136303, b: 3.1119123461625993\n",
      "Iteración: 19. Loss: 43444709.09308323, w: 443.3618790148445, b: 3.1173592209870633\n"
     ]
    }
   ],
   "source": [
    "# Ejecutar entrenamiento\n",
    "w, b, perdida = entrenar(x1,y,nits,alpha)"
   ]
  },
  {
   "cell_type": "code",
   "execution_count": 53,
   "metadata": {
    "colab": {
     "base_uri": "https://localhost:8080/",
     "height": 465
    },
    "id": "I2Kl-4HAfyUE",
    "outputId": "243cc1f8-6a1d-4a82-f95a-33a5b237179f"
   },
   "outputs": [
    {
     "data": {
      "image/png": "[encoded data removed]",
      "text/plain": [
       "<Figure size 640x480 with 1 Axes>"
      ]
     },
     "metadata": {},
     "output_type": "display_data"
    }
   ],
   "source": [
    "# Dibujar comportamiento del error\n",
    "plt.plot(perdida)\n",
    "plt.xlabel('Iteración')\n",
    "plt.ylabel('Pérdida')\n",
    "plt.show()"
   ]
  },
  {
   "cell_type": "code",
   "execution_count": 55,
   "metadata": {
    "colab": {
     "base_uri": "https://localhost:8080/",
     "height": 479
    },
    "id": "1rWgFXvUf3PY",
    "outputId": "fc2a682e-036e-42b6-b51c-39a7f4adbadd"
   },
   "outputs": [
    {
     "data": {
      "image/png": "[encoded data removed]",
      "text/plain": [
       "<Figure size 640x480 with 1 Axes>"
      ]
     },
     "metadata": {},
     "output_type": "display_data"
    }
   ],
   "source": [
    "# Dibujar recta resultante\n",
    "x_pred = np.linspace(x1.min(),x1.max(),x1.shape[0])\n",
    "y_pred = predecir(x_pred,w,b)\n",
    "\n",
    "plt.scatter(x1,y)\n",
    "plt.plot(x_pred,y_pred,'r--')\n",
    "plt.xlabel('$x_1$ (área en $m^2$)')\n",
    "plt.ylabel('y (precio (en U$)');"
   ]
  },
  {
   "cell_type": "code",
   "execution_count": null,
   "metadata": {
    "id": "A6gdjofdf6lX"
   },
   "outputs": [],
   "source": []
  }
 ],
 "metadata": {
  "colab": {
   "provenance": []
  },
  "kernelspec": {
   "display_name": "Python 3 (ipykernel)",
   "language": "python",
   "name": "python3"
  },
  "language_info": {
   "codemirror_mode": {
    "name": "ipython",
    "version": 3
   },
   "file_extension": ".py",
   "mimetype": "text/x-python",
   "name": "python",
   "nbconvert_exporter": "python",
   "pygments_lexer": "ipython3",
   "version": "3.10.13"
  }
 },
 "nbformat": 4,
 "nbformat_minor": 4
}
