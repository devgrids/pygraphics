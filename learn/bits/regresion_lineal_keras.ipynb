{
 "cells": [
  {
   "cell_type": "markdown",
   "metadata": {
    "id": "Vswpx6tLUeO4"
   },
   "source": [
    "# Regresión lineal: implementación en Keras"
   ]
  },
  {
   "cell_type": "markdown",
   "metadata": {
    "id": "KekemDcyUdF3"
   },
   "source": [
    "## 1. Configuración Google Drive"
   ]
  },
  {
   "cell_type": "code",
   "execution_count": 1,
   "metadata": {
    "id": "8pgsYo3FU0oU"
   },
   "outputs": [],
   "source": [
    "ruta = r'C:\\Users\\yordy\\OneDrive\\Escritorio\\Internet Explorer\\deep\\learn\\assets\\datasets\\prices.csv'"
   ]
  },
  {
   "cell_type": "markdown",
   "metadata": {
    "id": "Relh2SncVM6Q"
   },
   "source": [
    "## 2. Lectura y visualización del set de datos"
   ]
  },
  {
   "cell_type": "code",
   "execution_count": 3,
   "metadata": {
    "id": "bVrZoXjmVQMp"
   },
   "outputs": [
    {
     "name": "stderr",
     "output_type": "stream",
     "text": [
      "C:\\Users\\yordy\\AppData\\Local\\Temp\\ipykernel_2188\\39420291.py:1: DeprecationWarning: \n",
      "Pyarrow will become a required dependency of pandas in the next major release of pandas (pandas 3.0),\n",
      "(to allow more performant data types, such as the Arrow string type, and better interoperability with other libraries)\n",
      "but was not found to be installed on your system.\n",
      "If this would cause problems for you,\n",
      "please provide us feedback at https://github.com/pandas-dev/pandas/issues/54466\n",
      "        \n",
      "  import pandas as pd\n"
     ]
    }
   ],
   "source": [
    "import pandas as pd\n",
    "import matplotlib.pyplot as plt\n",
    "import numpy as np\n",
    "from tensorflow.keras import Sequential\n",
    "from tensorflow.keras.layers import Dense\n",
    "from tensorflow.keras.optimizers import SGD\n",
    "import tensorflow as tf\n",
    "np.random.seed(25)\n",
    "tf.random.set_seed(25)"
   ]
  },
  {
   "cell_type": "code",
   "execution_count": 5,
   "metadata": {
    "id": "TzRpfLirVTP5"
   },
   "outputs": [],
   "source": [
    "data = pd.read_csv(ruta)"
   ]
  },
  {
   "cell_type": "code",
   "execution_count": 6,
   "metadata": {
    "colab": {
     "base_uri": "https://localhost:8080/",
     "height": 205
    },
    "id": "YjpD9XGjVYYZ",
    "outputId": "eca330bd-4668-4079-b054-83efc7e7716c"
   },
   "outputs": [
    {
     "data": {
      "text/html": [
       "<div>\n",
       "<style scoped>\n",
       "    .dataframe tbody tr th:only-of-type {\n",
       "        vertical-align: middle;\n",
       "    }\n",
       "\n",
       "    .dataframe tbody tr th {\n",
       "        vertical-align: top;\n",
       "    }\n",
       "\n",
       "    .dataframe thead th {\n",
       "        text-align: right;\n",
       "    }\n",
       "</style>\n",
       "<table border=\"1\" class=\"dataframe\">\n",
       "  <thead>\n",
       "    <tr style=\"text-align: right;\">\n",
       "      <th></th>\n",
       "      <th>Area</th>\n",
       "      <th>Precio</th>\n",
       "    </tr>\n",
       "  </thead>\n",
       "  <tbody>\n",
       "    <tr>\n",
       "      <th>0</th>\n",
       "      <td>152.272727</td>\n",
       "      <td>65928.86015</td>\n",
       "    </tr>\n",
       "    <tr>\n",
       "      <th>1</th>\n",
       "      <td>102.272727</td>\n",
       "      <td>44477.41849</td>\n",
       "    </tr>\n",
       "    <tr>\n",
       "      <th>2</th>\n",
       "      <td>222.727273</td>\n",
       "      <td>95848.62198</td>\n",
       "    </tr>\n",
       "    <tr>\n",
       "      <th>3</th>\n",
       "      <td>79.545455</td>\n",
       "      <td>44964.89827</td>\n",
       "    </tr>\n",
       "    <tr>\n",
       "      <th>4</th>\n",
       "      <td>86.363636</td>\n",
       "      <td>34367.39122</td>\n",
       "    </tr>\n",
       "  </tbody>\n",
       "</table>\n",
       "</div>"
      ],
      "text/plain": [
       "         Area       Precio\n",
       "0  152.272727  65928.86015\n",
       "1  102.272727  44477.41849\n",
       "2  222.727273  95848.62198\n",
       "3   79.545455  44964.89827\n",
       "4   86.363636  34367.39122"
      ]
     },
     "execution_count": 6,
     "metadata": {},
     "output_type": "execute_result"
    }
   ],
   "source": [
    "data.head()"
   ]
  },
  {
   "cell_type": "code",
   "execution_count": 7,
   "metadata": {
    "colab": {
     "base_uri": "https://localhost:8080/"
    },
    "id": "J4_PtVuBVZXR",
    "outputId": "5a589a35-f3b2-40d4-ee19-545e5895092a"
   },
   "outputs": [
    {
     "data": {
      "text/plain": [
       "(100, 2)"
      ]
     },
     "execution_count": 7,
     "metadata": {},
     "output_type": "execute_result"
    }
   ],
   "source": [
    "data.shape"
   ]
  },
  {
   "cell_type": "code",
   "execution_count": 8,
   "metadata": {
    "id": "jFrErFrRVajp"
   },
   "outputs": [],
   "source": [
    "x = data['Area'].values\n",
    "y = data['Precio'].values"
   ]
  },
  {
   "cell_type": "code",
   "execution_count": 9,
   "metadata": {
    "colab": {
     "base_uri": "https://localhost:8080/",
     "height": 306
    },
    "id": "v5S_D28PVfhA",
    "outputId": "19be9e31-1f53-450e-f2bd-17de536d3ba1"
   },
   "outputs": [
    {
     "data": {
      "text/plain": [
       "Text(0, 0.5, 'y (precio (en U$)')"
      ]
     },
     "execution_count": 9,
     "metadata": {},
     "output_type": "execute_result"
    },
    {
     "data": {
      "image/png": "[encoded data removed]",
      "text/plain": [
       "<Figure size 640x480 with 1 Axes>"
      ]
     },
     "metadata": {},
     "output_type": "display_data"
    }
   ],
   "source": [
    "plt.scatter(x,y)\n",
    "plt.xlabel('$x_1$ (área en $m^2$')\n",
    "plt.ylabel('y (precio (en U$)')"
   ]
  },
  {
   "cell_type": "markdown",
   "metadata": {
    "id": "MWRfTBchVqLI"
   },
   "source": [
    "## 3. Construir el modelo lineal en Keras"
   ]
  },
  {
   "cell_type": "code",
   "execution_count": 10,
   "metadata": {
    "id": "Qq-tYXwmrALA"
   },
   "outputs": [],
   "source": [
    "# Contenedor vacío\n",
    "modelo = Sequential()"
   ]
  },
  {
   "cell_type": "code",
   "execution_count": 11,
   "metadata": {
    "id": "iJk58yzxrHYY"
   },
   "outputs": [],
   "source": [
    "# Comenzar a llenar el modelo ('add')\n",
    "modelo.add(Dense(1, activation='linear', input_shape=((1,))))"
   ]
  },
  {
   "cell_type": "code",
   "execution_count": 12,
   "metadata": {
    "colab": {
     "base_uri": "https://localhost:8080/"
    },
    "id": "l7w4aH9Atjh-",
    "outputId": "50a5a4d8-7a4c-465e-f082-48fde22795ef"
   },
   "outputs": [
    {
     "name": "stdout",
     "output_type": "stream",
     "text": [
      "Model: \"sequential\"\n",
      "_________________________________________________________________\n",
      " Layer (type)                Output Shape              Param #   \n",
      "=================================================================\n",
      " dense (Dense)               (None, 1)                 2         \n",
      "                                                                 \n",
      "=================================================================\n",
      "Total params: 2\n",
      "Trainable params: 2\n",
      "Non-trainable params: 0\n",
      "_________________________________________________________________\n"
     ]
    }
   ],
   "source": [
    "# Información del modelo y = wx + b\n",
    "modelo.summary()"
   ]
  },
  {
   "cell_type": "markdown",
   "metadata": {
    "id": "0-Qtn32GVyIB"
   },
   "source": [
    "## 4. Optimizador (Gradiente Descendente Estocástico) y pérdida"
   ]
  },
  {
   "cell_type": "code",
   "execution_count": 13,
   "metadata": {
    "id": "of3k_K85V0m8"
   },
   "outputs": [],
   "source": [
    "lr = 0.00001\n",
    "optimizador = SGD(learning_rate=lr)\n",
    "modelo.compile(optimizer=optimizador, loss='mse')"
   ]
  },
  {
   "cell_type": "markdown",
   "metadata": {
    "id": "JzpZUVhFdRx9"
   },
   "source": [
    "## 5. Entrenamiento y predicción"
   ]
  },
  {
   "cell_type": "code",
   "execution_count": 14,
   "metadata": {
    "colab": {
     "base_uri": "https://localhost:8080/"
    },
    "id": "CAgQlPIYd54K",
    "outputId": "fde41fd1-b6d0-4de0-f414-11fc3c956a97"
   },
   "outputs": [
    {
     "name": "stdout",
     "output_type": "stream",
     "text": [
      "Epoch 1/20\n",
      "10/10 [==============================] - 2s 4ms/step - loss: 793386496.0000\n",
      "Epoch 2/20\n",
      "10/10 [==============================] - 0s 3ms/step - loss: 88015688.0000\n",
      "Epoch 3/20\n",
      "10/10 [==============================] - 0s 1ms/step - loss: 90311944.0000\n",
      "Epoch 4/20\n",
      "10/10 [==============================] - 0s 2ms/step - loss: 90005800.0000\n",
      "Epoch 5/20\n",
      "10/10 [==============================] - 0s 2ms/step - loss: 87927200.0000\n",
      "Epoch 6/20\n",
      "10/10 [==============================] - 0s 2ms/step - loss: 92732128.0000\n",
      "Epoch 7/20\n",
      "10/10 [==============================] - 0s 4ms/step - loss: 88902224.0000\n",
      "Epoch 8/20\n",
      "10/10 [==============================] - 0s 1ms/step - loss: 88999984.0000\n",
      "Epoch 9/20\n",
      "10/10 [==============================] - 0s 2ms/step - loss: 88838632.0000\n",
      "Epoch 10/20\n",
      "10/10 [==============================] - 0s 2ms/step - loss: 90567272.0000\n",
      "Epoch 11/20\n",
      "10/10 [==============================] - 0s 3ms/step - loss: 88884088.0000\n",
      "Epoch 12/20\n",
      "10/10 [==============================] - 0s 1ms/step - loss: 93994104.0000\n",
      "Epoch 13/20\n",
      "10/10 [==============================] - 0s 2ms/step - loss: 94883048.0000\n",
      "Epoch 14/20\n",
      "10/10 [==============================] - 0s 4ms/step - loss: 90176920.0000\n",
      "Epoch 15/20\n",
      "10/10 [==============================] - 0s 3ms/step - loss: 88801424.0000\n",
      "Epoch 16/20\n",
      "10/10 [==============================] - 0s 1ms/step - loss: 91040672.0000\n",
      "Epoch 17/20\n",
      "10/10 [==============================] - 0s 2ms/step - loss: 88557744.0000\n",
      "Epoch 18/20\n",
      "10/10 [==============================] - 0s 4ms/step - loss: 92108248.0000\n",
      "Epoch 19/20\n",
      "10/10 [==============================] - 0s 1ms/step - loss: 92214928.0000\n",
      "Epoch 20/20\n",
      "10/10 [==============================] - 0s 3ms/step - loss: 90080152.0000\n"
     ]
    }
   ],
   "source": [
    "n_epochs = 20\n",
    "s_minibatches = 10 # Probar con diferentes batch_sizes\n",
    "historia = modelo.fit(x,y,epochs=n_epochs,batch_size=s_minibatches,verbose=1)"
   ]
  },
  {
   "cell_type": "markdown",
   "metadata": {
    "id": "j1eKT8FSfD_r"
   },
   "source": [
    "### 5.1 Comportamiento del error"
   ]
  },
  {
   "cell_type": "code",
   "execution_count": 15,
   "metadata": {
    "colab": {
     "base_uri": "https://localhost:8080/",
     "height": 295
    },
    "id": "_o7xvdcRfUUQ",
    "outputId": "fcdd0e63-58f6-41a7-d2c9-e84bad2a9347"
   },
   "outputs": [
    {
     "data": {
      "text/plain": [
       "[<matplotlib.lines.Line2D at 0x15832269180>]"
      ]
     },
     "execution_count": 15,
     "metadata": {},
     "output_type": "execute_result"
    },
    {
     "data": {
      "image/png": "[encoded data removed]",
      "text/plain": [
       "<Figure size 640x480 with 1 Axes>"
      ]
     },
     "metadata": {},
     "output_type": "display_data"
    }
   ],
   "source": [
    "plt.plot(historia.history['loss'])"
   ]
  },
  {
   "cell_type": "markdown",
   "metadata": {
    "id": "frJiUQMewtgq"
   },
   "source": [
    "### 5.2 Predicción"
   ]
  },
  {
   "cell_type": "code",
   "execution_count": 16,
   "metadata": {
    "colab": {
     "base_uri": "https://localhost:8080/",
     "height": 306
    },
    "id": "1rWgFXvUf3PY",
    "outputId": "1a894993-c279-44ec-899d-71abc785e2d7"
   },
   "outputs": [
    {
     "name": "stdout",
     "output_type": "stream",
     "text": [
      "4/4 [==============================] - 0s 3ms/step\n"
     ]
    },
    {
     "data": {
      "text/plain": [
       "Text(0, 0.5, 'y (precio (en U$)')"
      ]
     },
     "execution_count": 16,
     "metadata": {},
     "output_type": "execute_result"
    },
    {
     "data": {
      "image/png": "[encoded data removed]",
      "text/plain": [
       "<Figure size 640x480 with 1 Axes>"
      ]
     },
     "metadata": {},
     "output_type": "display_data"
    }
   ],
   "source": [
    "# Dibujar recta resultante\n",
    "x_pred = np.linspace(x.min(),x.max(),x.shape[0])\n",
    "y_pred = modelo.predict(x_pred)\n",
    "\n",
    "plt.scatter(x,y)\n",
    "plt.plot(x_pred,y_pred,'r--')\n",
    "plt.xlabel('$x_1$ (área en $m^2$)')\n",
    "plt.ylabel('y (precio (en U$)')"
   ]
  },
  {
   "cell_type": "code",
   "execution_count": null,
   "metadata": {
    "id": "oRAGhlcjurR6"
   },
   "outputs": [],
   "source": []
  }
 ],
 "metadata": {
  "colab": {
   "provenance": []
  },
  "kernelspec": {
   "display_name": "Python 3 (ipykernel)",
   "language": "python",
   "name": "python3"
  },
  "language_info": {
   "codemirror_mode": {
    "name": "ipython",
    "version": 3
   },
   "file_extension": ".py",
   "mimetype": "text/x-python",
   "name": "python",
   "nbconvert_exporter": "python",
   "pygments_lexer": "ipython3",
   "version": "3.10.13"
  }
 },
 "nbformat": 4,
 "nbformat_minor": 4
}
