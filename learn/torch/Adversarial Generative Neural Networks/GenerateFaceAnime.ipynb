{
 "cells": [
  {
   "cell_type": "code",
   "execution_count": 1,
   "metadata": {},
   "outputs": [
    {
     "name": "stdout",
     "output_type": "stream",
     "text": [
      "\n",
      "Información de la GPU 0:\n",
      "Nombre: NVIDIA GeForce RTX 3060 Laptop GPU\n",
      "Capacidad de cómputo: 8.6\n",
      "Memoria total: 6.00 GB\n",
      "Núcleos CUDA: 30\n"
     ]
    }
   ],
   "source": [
    "import torch\n",
    "\n",
    "# Verificar la disponibilidad de las GPUs\n",
    "if torch.cuda.is_available():\n",
    "    # Obtener el número total de GPUs\n",
    "    num_gpus = torch.cuda.device_count()\n",
    "\n",
    "    # Iterar sobre todas las GPUs\n",
    "    for gpu_id in range(num_gpus):\n",
    "        # Obtener propiedades de la GPU\n",
    "        gpu_properties = torch.cuda.get_device_properties(gpu_id)\n",
    "\n",
    "        # Imprimir información de la GPU\n",
    "        print(f\"\\nInformación de la GPU {gpu_id}:\")\n",
    "        print(f\"Nombre: {gpu_properties.name}\")\n",
    "        print(f\"Capacidad de cómputo: {gpu_properties.major}.{gpu_properties.minor}\")\n",
    "        print(f\"Memoria total: {gpu_properties.total_memory / 1024**3:.2f} GB\")\n",
    "        print(f\"Núcleos CUDA: {gpu_properties.multi_processor_count}\")\n",
    "else:\n",
    "    print(\"No se detectaron GPUs disponibles.\")\n"
   ]
  },
  {
   "cell_type": "code",
   "execution_count": 2,
   "metadata": {},
   "outputs": [
    {
     "name": "stdout",
     "output_type": "stream",
     "text": [
      "GPU actual (índice 0): NVIDIA GeForce RTX 3060 Laptop GPU\n"
     ]
    }
   ],
   "source": [
    "import torch\n",
    "\n",
    "new_device = 0 # Changes GPU\n",
    "torch.cuda.set_device(new_device)\n",
    "\n",
    "# Verificar la disponibilidad de las GPUs\n",
    "if torch.cuda.is_available():\n",
    "    # Obtener el índice de la GPU actual\n",
    "    current_gpu = torch.cuda.current_device()\n",
    "\n",
    "    # Obtener información sobre la GPU actual\n",
    "    gpu_properties = torch.cuda.get_device_properties(current_gpu)\n",
    "\n",
    "    # Imprimir información de la GPU actual\n",
    "    print(f\"GPU actual (índice {current_gpu}): {gpu_properties.name}\")\n",
    "else:\n",
    "    print(\"No se detectaron GPUs disponibles.\")\n"
   ]
  },
  {
   "cell_type": "code",
   "execution_count": 3,
   "metadata": {},
   "outputs": [],
   "source": [
    "from torch.utils.data import DataLoader\n",
    "from torch.utils.data import DataLoader\n",
    "from torchvision.datasets import ImageFolder\n",
    "import torchvision.transforms as T"
   ]
  },
  {
   "cell_type": "code",
   "execution_count": null,
   "metadata": {},
   "outputs": [],
   "source": [
    "data_dir = \"assets/dataset/training_set\""
   ]
  },
  {
   "cell_type": "code",
   "execution_count": null,
   "metadata": {},
   "outputs": [],
   "source": [
    "image_size = 64\n",
    "batch_size = 128\n",
    "stats = (0.5, 0.5, 0.5), (0.5, 0.5, 0.5)"
   ]
  },
  {
   "cell_type": "code",
   "execution_count": null,
   "metadata": {},
   "outputs": [],
   "source": [
    "# Definición de la transformación para el conjunto de entrenamiento\n",
    "train_transform = T.Compose([\n",
    "    T.Resize(image_size),\n",
    "    T.CenterCrop(image_size),\n",
    "    T.ToTensor(),\n",
    "    T.Normalize(*stats)\n",
    "])\n",
    "\n",
    "# Creación del conjunto de entrenamiento\n",
    "training_set = ImageFolder(root=data_dir, transform=train_transform)\n",
    "train_loader = DataLoader(dataset=training_set, batch_size=batch_size, shuffle=True, num_workers = 3, pin_memory = True)"
   ]
  },
  {
   "cell_type": "code",
   "execution_count": null,
   "metadata": {},
   "outputs": [],
   "source": [
    "import torch \n",
    "from torchvision.utils import make_grid\n",
    "import matplotlib.pyplot as plt"
   ]
  },
  {
   "cell_type": "code",
   "execution_count": null,
   "metadata": {},
   "outputs": [],
   "source": [
    "def denorm(images):\n",
    "    return images*stats[1][0] + stats[0][0]\n",
    "\n",
    "def showImages(images, nmax=64):\n",
    "    fig,ax = plt.subplots(figsize = (8,8))\n",
    "    ax.set_xticks([])\n",
    "    ax.set_yticks([])\n",
    "    ax.imshow(make_grid(denorm(images.detach()[:nmax]), nrow = 8).permute(1,2,0))\n",
    "    plt.show()\n",
    "    \n",
    "def showBatch(dl, nmax=64):\n",
    "    for images, _ in dl:\n",
    "        showImages(images, nmax)\n",
    "        break"
   ]
  },
  {
   "cell_type": "code",
   "execution_count": null,
   "metadata": {},
   "outputs": [],
   "source": [
    "showBatch(train_loader)"
   ]
  },
  {
   "cell_type": "code",
   "execution_count": null,
   "metadata": {},
   "outputs": [],
   "source": [
    "def get_default_device():\n",
    "    if torch.cuda.is_available():\n",
    "        return torch.device(\"cuda\")\n",
    "    else:\n",
    "        return torch.device(\"cpu\")\n",
    "\n",
    "def to_device(data,service):\n",
    "    if isinstance(data, (list,tuple)):\n",
    "        return (to_device(x,device) for x in data)\n",
    "    return data.to(device, non_blocking=True)"
   ]
  },
  {
   "cell_type": "code",
   "execution_count": null,
   "metadata": {},
   "outputs": [],
   "source": [
    "class DeviceDataLoader():\n",
    "    def __init__(self,dl,device):\n",
    "        self.dl = dl\n",
    "        self.device = device\n",
    "        \n",
    "    def __iter__(self):\n",
    "        for b in self.dl:\n",
    "            yield to_device(b,self.device)\n",
    "    \n",
    "    def __len__(self):\n",
    "        return len(self.dl)"
   ]
  },
  {
   "cell_type": "code",
   "execution_count": null,
   "metadata": {},
   "outputs": [],
   "source": [
    "device = get_default_device()\n",
    "device"
   ]
  },
  {
   "cell_type": "code",
   "execution_count": null,
   "metadata": {},
   "outputs": [],
   "source": [
    "train_loader = DeviceDataLoader(train_loader,device)"
   ]
  },
  {
   "cell_type": "code",
   "execution_count": null,
   "metadata": {},
   "outputs": [],
   "source": [
    "import torch.nn as nn\n",
    "\n",
    "discri = nn.Sequential(\n",
    "    # in: 3 x 64 x 64\n",
    "\n",
    "    nn.Conv2d(3, 64, kernel_size=4, stride=2, padding=1, bias=False),\n",
    "    nn.BatchNorm2d(64),\n",
    "    nn.LeakyReLU(0.2, inplace=True),\n",
    "    # out: 64 x 32 x 32\n",
    "\n",
    "    nn.Conv2d(64, 128, kernel_size=4, stride=2, padding=1, bias=False),\n",
    "    nn.BatchNorm2d(128),\n",
    "    nn.LeakyReLU(0.2, inplace=True),\n",
    "    # out: 128 x 16 x 16\n",
    "\n",
    "    nn.Conv2d(128, 256, kernel_size=4, stride=2, padding=1, bias=False),\n",
    "    nn.BatchNorm2d(256),\n",
    "    nn.LeakyReLU(0.2, inplace=True),\n",
    "    # out: 256 x 8 x 8\n",
    "\n",
    "    nn.Conv2d(256, 512, kernel_size=4, stride=2, padding=1, bias=False),\n",
    "    nn.BatchNorm2d(512),\n",
    "    nn.LeakyReLU(0.2, inplace=True),\n",
    "    # out: 512 x 4 x 4\n",
    "\n",
    "    nn.Conv2d(512, 1, kernel_size=4, stride=1, padding=0, bias=False),\n",
    "    # out: 1 x 1 x 1\n",
    "\n",
    "    nn.Flatten(),\n",
    "    nn.Sigmoid())"
   ]
  },
  {
   "cell_type": "code",
   "execution_count": null,
   "metadata": {},
   "outputs": [],
   "source": [
    "discri = to_device(discri, device)\n",
    "latent_size = 128"
   ]
  },
  {
   "cell_type": "code",
   "execution_count": null,
   "metadata": {},
   "outputs": [],
   "source": [
    "generator = nn.Sequential(\n",
    "    # in: latent_size x 1 x 1\n",
    "\n",
    "    nn.ConvTranspose2d(latent_size, 512, kernel_size=4, stride=1, padding=0, bias=False),\n",
    "    nn.BatchNorm2d(512),\n",
    "    nn.ReLU(True),\n",
    "    # out: 512 x 4 x 4\n",
    "\n",
    "    nn.ConvTranspose2d(512, 256, kernel_size=4, stride=2, padding=1, bias=False),\n",
    "    nn.BatchNorm2d(256),\n",
    "    nn.ReLU(True),\n",
    "    # out: 256 x 8 x 8\n",
    "\n",
    "    nn.ConvTranspose2d(256, 128, kernel_size=4, stride=2, padding=1, bias=False),\n",
    "    nn.BatchNorm2d(128),\n",
    "    nn.ReLU(True),\n",
    "    # out: 128 x 16 x 16\n",
    "\n",
    "    nn.ConvTranspose2d(128, 64, kernel_size=4, stride=2, padding=1, bias=False),\n",
    "    nn.BatchNorm2d(64),\n",
    "    nn.ReLU(True),\n",
    "    # out: 64 x 32 x 32\n",
    "\n",
    "    nn.ConvTranspose2d(64, 3, kernel_size=4, stride=2, padding=1, bias=False),\n",
    "    nn.Tanh()\n",
    "    # out: 3 x 64 x 64\n",
    ")"
   ]
  },
  {
   "cell_type": "code",
   "execution_count": null,
   "metadata": {},
   "outputs": [],
   "source": [
    "xb = torch.randn(batch_size, latent_size, 1, 1) # random latent tensors\n",
    "fake_images = generator(xb)\n",
    "print(fake_images.shape)\n",
    "showImages(fake_images)"
   ]
  },
  {
   "cell_type": "code",
   "execution_count": null,
   "metadata": {},
   "outputs": [],
   "source": [
    "generator = to_device(generator,device)"
   ]
  },
  {
   "cell_type": "code",
   "execution_count": null,
   "metadata": {},
   "outputs": [],
   "source": [
    "def train_dis(real, opti):\n",
    "    opti.zero_grad()\n",
    "    \n",
    "    real_preds = discri(real)\n",
    "    real_targets = torch.ones(real.size(0),1,device = device)\n",
    "    real_loss = F.binary_cross_entropy(real_preds,real_targets)\n",
    "    real_score = torch.mean(real_preds).item()\n",
    "    \n",
    "    latent = torch.randn(batch_size, latent_size,1,1,device = device)\n",
    "    fake_images = generator(latent)\n",
    "    \n",
    "    fake_targets = torch.zeros(fake_images.size(0),1,device=device)\n",
    "    fake_preds = discri(fake_images)\n",
    "    fake_loss = F.binary_cross_entropy(fake_preds,fake_targets)\n",
    "    fake_score = torch.mean(fake_preds).item()\n",
    "    \n",
    "    loss = fake_loss+real_loss\n",
    "    loss.backward()\n",
    "    opti.step()\n",
    "    return loss.item(), real_score, fake_score"
   ]
  },
  {
   "cell_type": "code",
   "execution_count": null,
   "metadata": {},
   "outputs": [],
   "source": [
    "def train_gen(opti):\n",
    "    opti.zero_grad()\n",
    "    latent = torch.randn(batch_size, latent_size,1,1,device =device)\n",
    "    fake_images = generator(latent)\n",
    "    \n",
    "    preds = discri(fake_images)\n",
    "    targets = torch.ones(batch_size,1,device = device)\n",
    "    loss = F.binary_cross_entropy(preds, targets)\n",
    "    \n",
    "    loss.backward()\n",
    "    opti.step()\n",
    "    \n",
    "    return loss.item()"
   ]
  },
  {
   "cell_type": "code",
   "execution_count": null,
   "metadata": {},
   "outputs": [],
   "source": [
    "import os\n",
    "from torchvision.utils import save_image\n",
    "\n",
    "sample_dir = 'assets/dataset/generated'\n",
    "os.makedirs(sample_dir,exist_ok = True)"
   ]
  },
  {
   "cell_type": "code",
   "execution_count": null,
   "metadata": {},
   "outputs": [],
   "source": [
    "def save_samples(index, latent_tensors,show= True):\n",
    "    fake_images = generator(latent_tensors)\n",
    "    fake_fname = 'genearted_images={0:0=4d}.png'.format(index)\n",
    "    save_image(denorm(fake_images),os.path.join(sample_dir,fake_fname), nrow=8)\n",
    "    print('saving',fake_fname)\n",
    "    \n",
    "    if show:\n",
    "        fig,ax = plt.subplots(figsize = (8,8))\n",
    "        ax.set_xticks([])\n",
    "        ax.set_yticks([])\n",
    "        ax.imshow(make_grid(fake_images.cpu().detach(), nrow=8).permute(1,2,0))\n",
    "        plt.show()"
   ]
  },
  {
   "cell_type": "code",
   "execution_count": null,
   "metadata": {},
   "outputs": [],
   "source": [
    "fixed_latent = torch.randn(64, latent_size,1,1, device = device)\n",
    "save_samples(0,fixed_latent)"
   ]
  },
  {
   "cell_type": "code",
   "execution_count": null,
   "metadata": {},
   "outputs": [],
   "source": [
    "from tqdm.notebook import tqdm\n",
    "import torch.nn.functional as F"
   ]
  },
  {
   "cell_type": "code",
   "execution_count": null,
   "metadata": {},
   "outputs": [],
   "source": [
    "def fit(epochs, lr, start_idx=1):\n",
    "    torch.cuda.empty_cache()\n",
    "    \n",
    "    # Losses & scores\n",
    "    losses_g = []\n",
    "    losses_d = []\n",
    "    real_scores = []\n",
    "    fake_scores = []\n",
    "    \n",
    "    # Create optimizers\n",
    "    opt_d = torch.optim.Adam(discri.parameters(), lr=lr, betas=(0.5, 0.999))\n",
    "    opt_g = torch.optim.Adam(generator.parameters(), lr=lr, betas=(0.5, 0.999))\n",
    "    \n",
    "    for epoch in range(epochs):\n",
    "        for real_images, _ in tqdm(train_loader):\n",
    "            # Train discriminator\n",
    "            loss_d, real_score, fake_score = train_dis(real_images, opt_d)\n",
    "            # Train generator\n",
    "            loss_g = train_gen(opt_g)\n",
    "            \n",
    "        # Record losses & scores\n",
    "        losses_g.append(loss_g)\n",
    "        losses_d.append(loss_d)\n",
    "        real_scores.append(real_score)\n",
    "        fake_scores.append(fake_score)\n",
    "        \n",
    "        # Log losses & scores (last batch)\n",
    "        print(\"Epoch [{}/{}], loss_g: {:.4f}, loss_d: {:.4f}, real_score: {:.4f}, fake_score: {:.4f}\".format(\n",
    "            epoch+1, epochs, loss_g, loss_d, real_score, fake_score))\n",
    "    \n",
    "        # Save generated images\n",
    "        save_samples(epoch+start_idx, fixed_latent, show=False)\n",
    "    \n",
    "    return losses_g, losses_d, real_scores, fake_scores"
   ]
  },
  {
   "cell_type": "code",
   "execution_count": null,
   "metadata": {},
   "outputs": [],
   "source": [
    "lr = 0.0001\n",
    "epochs = 500\n",
    "\n",
    "history = fit(epochs, lr)\n",
    "losses_g, losses_d, real_scores, fake_scores = history\n",
    "\n",
    "torch.save(generator.state_dict(), 'G.pth')\n",
    "torch.save(discri.state_dict(), 'D.pth')"
   ]
  },
  {
   "cell_type": "code",
   "execution_count": null,
   "metadata": {},
   "outputs": [],
   "source": [
    "from IPython.display import Image\n",
    "Image('assets/dataset/generated/genearted_images=0001.png')"
   ]
  }
 ],
 "metadata": {
  "kernelspec": {
   "display_name": "env",
   "language": "python",
   "name": "python3"
  },
  "language_info": {
   "codemirror_mode": {
    "name": "ipython",
    "version": 3
   },
   "file_extension": ".py",
   "mimetype": "text/x-python",
   "name": "python",
   "nbconvert_exporter": "python",
   "pygments_lexer": "ipython3",
   "version": "3.11.7"
  }
 },
 "nbformat": 4,
 "nbformat_minor": 2
}
